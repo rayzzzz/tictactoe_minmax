{
 "cells": [
  {
   "cell_type": "code",
   "execution_count": 1,
   "metadata": {},
   "outputs": [],
   "source": [
    "import time\n",
    "import logging\n",
    "import numpy as np\n",
    "\n",
    "\n",
    "from opponents import Opponent"
   ]
  },
  {
   "cell_type": "code",
   "execution_count": 2,
   "metadata": {},
   "outputs": [],
   "source": [
    "logging.basicConfig(level='WARN')"
   ]
  },
  {
   "cell_type": "markdown",
   "metadata": {},
   "source": [
    "## Rule\n",
    "* Empty:0, Player(you):1, Opponent:2\n",
    "* board:\n",
    "| | | |\n",
    "| - | - | - |\n",
    "| 0 | 1 | 2 |\n",
    "| 3 | 4 | 5 |\n",
    "| 6 | 7 | 8 |"
   ]
  },
  {
   "cell_type": "code",
   "execution_count": 3,
   "metadata": {},
   "outputs": [],
   "source": [
    "def check_win(board, size=3):\n",
    "    for i in range(size):\n",
    "        # row\n",
    "        if board[i*3] != 0 and \\\n",
    "            board[i*3] == board[i*3+1] == board[i*3+2]:\n",
    "            return board[i*3]\n",
    "        # column\n",
    "        if board[i] != 0 and \\\n",
    "            board[i] == board[i+3*1] == board[i+3*2]:\n",
    "            return board[i]\n",
    "    # diagonal\n",
    "    if board[4] != 0:\n",
    "        if board[0] == board[4] == board[8] or \\\n",
    "            board[2] == board[4] == board[6]:\n",
    "            \n",
    "            return board[4]\n",
    "\n",
    "    return 0\n",
    "\n",
    "\n",
    "\n",
    "class Board():\n",
    "    def __init__(self, player, opponent):\n",
    "        self.board = None\n",
    "        self.player = player\n",
    "        self.opponent = opponent # AI from TA\n",
    "        self.n_player_lose = 0\n",
    "        self.n_player_win = 0\n",
    "\n",
    "    def show_available_move(self):\n",
    "        return np.where(self.board == 0)[0]\n",
    "    \n",
    "    def show_board(self):\n",
    "        print(self.board[:3])\n",
    "        print(self.board[3:6])\n",
    "        print(self.board[6:9])\n",
    "    \n",
    "    def play(self, player_first=False):\n",
    "        self.board = np.zeros((9,))\n",
    "        players = [self.player, self.opponent]\n",
    "        offset = 0\n",
    "        if player_first:\n",
    "            idx = self.player.first_move()\n",
    "            self.board[idx] = 1\n",
    "        else:\n",
    "            idx = self.opponent.first_move()\n",
    "            self.board[idx] = 2\n",
    "            offset = 1\n",
    "        \n",
    "        for i in range(6):\n",
    "            current_player = players[(i+offset+1)%2]\n",
    "            idx = current_player.move(self.board)\n",
    "            assert self.board[idx] == 0, \\\n",
    "                f\"[player {(i+offset+1)%2}] There has been already set\"\n",
    "            self.board[idx] = (i+offset+1)%2 + 1\n",
    "            \n",
    "            if i >= 3 and self.is_game_finished():\n",
    "                break\n",
    "                \n",
    "    def is_game_finished(self):\n",
    "        result = check_win(self.board)\n",
    "        if result == 0:\n",
    "            return False\n",
    "        \n",
    "        if result == 1:\n",
    "            self.n_player_win += 1\n",
    "        \n",
    "        if result == 2:\n",
    "            self.n_player_lose += 1\n",
    "        \n",
    "        return True"
   ]
  },
  {
   "cell_type": "markdown",
   "metadata": {},
   "source": [
    "# Testing procedure"
   ]
  },
  {
   "cell_type": "code",
   "execution_count": 4,
   "metadata": {},
   "outputs": [],
   "source": [
    "TIMEOUT = 10\n",
    "NUM_RUNS = 100"
   ]
  },
  {
   "cell_type": "code",
   "execution_count": 5,
   "metadata": {},
   "outputs": [],
   "source": [
    "def profile(func):\n",
    "    def wrap(*args, **kwargs):\n",
    "        s = time.time()\n",
    "        result = func(*args, **kwargs)\n",
    "        duration = time.time() - s\n",
    "        if duration > TIMEOUT:\n",
    "            logging.warning(f\"Time Limit Exceeded: {duration}\")\n",
    "        logging.info(f\"using {duration} sec\")\n",
    "        return result\n",
    "\n",
    "    return wrap"
   ]
  },
  {
   "cell_type": "code",
   "execution_count": 6,
   "metadata": {},
   "outputs": [],
   "source": [
    "from random import choice\n",
    "class Player():\n",
    "    def __init__(self):\n",
    "        pass\n",
    "    \n",
    "    def first_move(self):\n",
    "        return choice(range(9))\n",
    "    \n",
    "    def _undo(self, board, last_idx):\n",
    "        board[last_idx] = 0\n",
    "    \n",
    "    def minmax(self, board, act):\n",
    "        available_moves = np.where(board == 0)[0]\n",
    "        result = check_win(board)\n",
    "        if result == 2: # opponent win\n",
    "            return [-1, None]\n",
    "        elif result == 1: # player win \n",
    "            return [1, None]\n",
    "        elif result == 0 and len(available_moves) == 0: # no one win and no available moves\n",
    "            return [0, None]\n",
    "        \n",
    "        if act == 'max':\n",
    "            best_choise = []\n",
    "            for possible_idx in available_moves:\n",
    "                possible_board = board\n",
    "                possible_board[possible_idx] = 1\n",
    "                out, _ = self.minmax(board, 'min')\n",
    "                best_choise.append(out)\n",
    "                self._undo(board, possible_idx)\n",
    "            return [max(best_choise), best_choise]\n",
    "        elif act == 'min':\n",
    "            best_choise = []\n",
    "            for possible_idx in available_moves:\n",
    "                possible_board = board\n",
    "                possible_board[possible_idx] = 2\n",
    "                out, _ = self.minmax(board, 'max')\n",
    "                best_choise.append(out)\n",
    "                self._undo(board, possible_idx)\n",
    "            return [min(best_choise), best_choise]\n",
    "    \n",
    "    @profile\n",
    "    def move(self, board):\n",
    "        # time.sleep(10)\n",
    "        available_moves = np.where(board == 0)[0]\n",
    "        best, choise = self.minmax(board, 'max')\n",
    "        best_choise = np.where(np.array(choise) == best)[0][0]\n",
    "        ch = available_moves[best_choise]\n",
    "        return ch"
   ]
  },
  {
   "cell_type": "code",
   "execution_count": 7,
   "metadata": {},
   "outputs": [
    {
     "name": "stdout",
     "output_type": "stream",
     "text": [
      "you lose 0 out of 100 games\n"
     ]
    }
   ],
   "source": [
    "opponent = Opponent('random')\n",
    "player = Player()\n",
    "b = Board(player, opponent)\n",
    "\n",
    "for i in range(NUM_RUNS):\n",
    "    player_first = i%2\n",
    "    b.play(player_first=player_first)\n",
    "    \n",
    "    \n",
    "\n",
    "print(f\"you lose {b.n_player_lose} out of {NUM_RUNS} games\")"
   ]
  },
  {
   "cell_type": "code",
   "execution_count": null,
   "metadata": {},
   "outputs": [],
   "source": []
  }
 ],
 "metadata": {
  "kernelspec": {
   "display_name": "Python 3",
   "language": "python",
   "name": "python3"
  },
  "language_info": {
   "codemirror_mode": {
    "name": "ipython",
    "version": 3
   },
   "file_extension": ".py",
   "mimetype": "text/x-python",
   "name": "python",
   "nbconvert_exporter": "python",
   "pygments_lexer": "ipython3",
   "version": "3.6.10"
  }
 },
 "nbformat": 4,
 "nbformat_minor": 4
}
